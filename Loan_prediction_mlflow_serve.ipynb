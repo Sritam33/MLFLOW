{
 "cells": [
  {
   "cell_type": "code",
   "execution_count": 1,
   "id": "004de11f",
   "metadata": {},
   "outputs": [],
   "source": [
    "import os\n",
    "os.environ[\"GIT_PYTHON_REFRESH\"]=\"quiet\"\n",
    "os.environ[\"MLFLOW_TRACKING_URI\"]=\"file:///C:\\Loan_pred_MlFlow\""
   ]
  },
  {
   "cell_type": "code",
   "execution_count": 2,
   "id": "ff7157ba",
   "metadata": {},
   "outputs": [
    {
     "name": "stdout",
     "output_type": "stream",
     "text": [
      "                             run_id       experiment_id    status  \\\n",
      "0  be737212918a49e9a9c5188cd0ce2061  788375059738517173  FINISHED   \n",
      "1  83116e14b3834ec48e20459ae5aa8bf1  788375059738517173  FINISHED   \n",
      "2  c76bc0cbce2045ee88ad7949f07fbc4a  788375059738517173   RUNNING   \n",
      "3  898aaf53489944cc978be1a362b1cfdd  788375059738517173   RUNNING   \n",
      "4  bf47548443f24342a7d5b212aee5e071  788375059738517173   RUNNING   \n",
      "5  86f4815ef9ff487cb4623ff62c2b536c  788375059738517173   RUNNING   \n",
      "6  d8a6d5cb382942f88630c0e4a66126da  788375059738517173    FAILED   \n",
      "\n",
      "                                        artifact_uri  \\\n",
      "0  file:///C:\\Loan_pred_MlFlow/788375059738517173...   \n",
      "1  file:///C:\\Loan_pred_MlFlow/788375059738517173...   \n",
      "2  file:///C:\\Loan_pred_MlFlow/788375059738517173...   \n",
      "3  file:///C:\\Loan_pred_MlFlow/788375059738517173...   \n",
      "4  file:///C:\\Loan_pred_MlFlow/788375059738517173...   \n",
      "5  file:///C:\\Loan_pred_MlFlow/788375059738517173...   \n",
      "6  file:///C:\\Loan_pred_MlFlow/788375059738517173...   \n",
      "\n",
      "                        start_time                         end_time  \\\n",
      "0 2024-05-25 03:47:23.636000+00:00 2024-05-25 04:14:52.904000+00:00   \n",
      "1 2024-05-24 12:09:54.915000+00:00 2024-05-24 13:14:20.431000+00:00   \n",
      "2 2024-05-24 06:17:55.018000+00:00                              NaT   \n",
      "3 2024-05-23 11:03:20.363000+00:00                              NaT   \n",
      "4 2024-05-22 14:16:08.022000+00:00                              NaT   \n",
      "5 2024-05-22 13:12:57.789000+00:00                              NaT   \n",
      "6 2024-05-22 13:10:48.894000+00:00 2024-05-22 13:12:46.977000+00:00   \n",
      "\n",
      "   metrics.rf_testing_score  metrics.gbm_training_score  \\\n",
      "0                  0.877116                    0.893639   \n",
      "1                  0.877116                    0.893294   \n",
      "2                       NaN                         NaN   \n",
      "3                       NaN                         NaN   \n",
      "4                       NaN                         NaN   \n",
      "5                       NaN                         NaN   \n",
      "6                       NaN                         NaN   \n",
      "\n",
      "   metrics.rf_training_score  metrics.gbm_testing_score  ...  \\\n",
      "0                   0.877092                   0.887884  ...   \n",
      "1                   0.877092                   0.887434  ...   \n",
      "2                        NaN                        NaN  ...   \n",
      "3                        NaN                        NaN  ...   \n",
      "4                        NaN                        NaN  ...   \n",
      "5                        NaN                        NaN  ...   \n",
      "6                        NaN                        NaN  ...   \n",
      "\n",
      "  params.gbm_learning_rate params.gbm_minimum_samples_split  \\\n",
      "0                     0.01                                5   \n",
      "1                     0.01                                5   \n",
      "2                     0.01                                5   \n",
      "3                     0.01                                5   \n",
      "4                     0.01                                5   \n",
      "5                     0.01                                5   \n",
      "6                     0.01                                5   \n",
      "\n",
      "  params.rf_max_depth tags.feature_set_version  \\\n",
      "0                   6             loan default   \n",
      "1                   6             loan default   \n",
      "2                   6                     None   \n",
      "3                   6                     None   \n",
      "4                   6                     None   \n",
      "5                   6                     None   \n",
      "6                   6                     None   \n",
      "\n",
      "                       tags.mlflow.log-model.history tags.mlflow.runName  \\\n",
      "0  [{\"run_id\": \"be737212918a49e9a9c5188cd0ce2061\"...   exultant-croc-327   \n",
      "1  [{\"run_id\": \"83116e14b3834ec48e20459ae5aa8bf1\"...     gaudy-skink-495   \n",
      "2                                               None     placid-newt-106   \n",
      "3                                               None   valuable-loon-488   \n",
      "4                                               None  indecisive-sow-705   \n",
      "5                                               None   resilient-auk-508   \n",
      "6                                               None  learned-donkey-752   \n",
      "\n",
      "  tags.mlflow.user tags.mlflow.source.type tags.iteration_name  \\\n",
      "0            srita                   LOCAL  test_rf_gb_sklearn   \n",
      "1            srita                   LOCAL  test_rf_gb_sklearn   \n",
      "2            srita                   LOCAL                None   \n",
      "3            srita                   LOCAL                None   \n",
      "4            srita                   LOCAL                None   \n",
      "5            srita                   LOCAL                None   \n",
      "6            srita                   LOCAL                None   \n",
      "\n",
      "                             tags.mlflow.source.name  \n",
      "0  C:\\Users\\srita\\anaconda3\\Lib\\site-packages\\ipy...  \n",
      "1  C:\\Users\\srita\\anaconda3\\Lib\\site-packages\\ipy...  \n",
      "2  C:\\Users\\srita\\anaconda3\\Lib\\site-packages\\ipy...  \n",
      "3  C:\\Users\\srita\\anaconda3\\Lib\\site-packages\\ipy...  \n",
      "4  C:\\Users\\srita\\anaconda3\\Lib\\site-packages\\ipy...  \n",
      "5  C:\\Users\\srita\\anaconda3\\Lib\\site-packages\\ipy...  \n",
      "6  C:\\Users\\srita\\anaconda3\\Lib\\site-packages\\ipy...  \n",
      "\n",
      "[7 rows x 23 columns]\n"
     ]
    }
   ],
   "source": [
    "import mlflow\n",
    "all_runs = mlflow.search_runs(search_all_experiments=True)\n",
    "print(all_runs)"
   ]
  },
  {
   "cell_type": "code",
   "execution_count": null,
   "id": "c21d0b80",
   "metadata": {},
   "outputs": [],
   "source": [
    "!mlflow models serve -p 8002 -m runs:/be737212918a49e9a9c5188cd0ce2061/random-forest-model  --no-conda"
   ]
  },
  {
   "cell_type": "code",
   "execution_count": null,
   "id": "51c14897",
   "metadata": {},
   "outputs": [],
   "source": []
  }
 ],
 "metadata": {
  "kernelspec": {
   "display_name": "Python 3 (ipykernel)",
   "language": "python",
   "name": "python3"
  },
  "language_info": {
   "codemirror_mode": {
    "name": "ipython",
    "version": 3
   },
   "file_extension": ".py",
   "mimetype": "text/x-python",
   "name": "python",
   "nbconvert_exporter": "python",
   "pygments_lexer": "ipython3",
   "version": "3.11.5"
  }
 },
 "nbformat": 4,
 "nbformat_minor": 5
}
