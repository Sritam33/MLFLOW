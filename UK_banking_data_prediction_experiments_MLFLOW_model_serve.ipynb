{
 "cells": [
  {
   "cell_type": "code",
   "execution_count": 1,
   "id": "77d74c83-3f43-40cf-be9f-58dd6991432f",
   "metadata": {},
   "outputs": [],
   "source": [
    "import os\n",
    "os.environ['MLFLOW_TRACKING_URI']='file:///C:/banking_mlfow1'"
   ]
  },
  {
   "cell_type": "code",
   "execution_count": 2,
   "id": "2ad65998-26b3-4503-a31d-fabaef56a576",
   "metadata": {},
   "outputs": [
    {
     "name": "stdout",
     "output_type": "stream",
     "text": [
      "                             run_id       experiment_id    status  \\\n",
      "0  44c6629e5abe44f896666c30e5786b63  642506959552595083  FINISHED   \n",
      "1  d4e17be752014c5f9776e8a2a5398b7c  642506959552595083  FINISHED   \n",
      "2  72f7a74687734402a517a88f3d181097  642506959552595083  FINISHED   \n",
      "\n",
      "                                        artifact_uri  \\\n",
      "0  file:///C:/banking_mlfow1/642506959552595083/4...   \n",
      "1  file:///C:/banking_mlfow1/642506959552595083/d...   \n",
      "2  file:///C:/banking_mlfow1/642506959552595083/7...   \n",
      "\n",
      "                        start_time                         end_time  \\\n",
      "0 2024-05-25 04:50:01.617000+00:00 2024-05-25 04:51:35.871000+00:00   \n",
      "1 2024-05-25 04:44:27.992000+00:00 2024-05-25 04:46:02.440000+00:00   \n",
      "2 2024-05-25 04:41:01.255000+00:00 2024-05-25 04:41:49.397000+00:00   \n",
      "\n",
      "   metrics.rf_training_score  metrics.gbm_training_score  \\\n",
      "0                   0.993990                    0.994231   \n",
      "1                   0.994021                    0.994273   \n",
      "2                   0.993988                    0.994229   \n",
      "\n",
      "  params.gbm_minimum_samples_split params.rf_max_depth params.gbm_max_depth  \\\n",
      "0                                5                   6                    6   \n",
      "1                                5                   6                    6   \n",
      "2                                5                   6                    6   \n",
      "\n",
      "  params.n_estimators params.gbm_n_estimators params.gbm_learning_rate  \\\n",
      "0                5000                    3000                     0.01   \n",
      "1                5000                    3000                     0.01   \n",
      "2                5000                    3000                     0.01   \n",
      "\n",
      "  tags.mlflow.runName tags.mlflow.user  \\\n",
      "0   awesome-snipe-713            srita   \n",
      "1  welcoming-rook-557            srita   \n",
      "2   caring-sponge-578            srita   \n",
      "\n",
      "                       tags.mlflow.log-model.history tags.mlflow.source.type  \\\n",
      "0  [{\"run_id\": \"44c6629e5abe44f896666c30e5786b63\"...                   LOCAL   \n",
      "1  [{\"run_id\": \"d4e17be752014c5f9776e8a2a5398b7c\"...                   LOCAL   \n",
      "2  [{\"run_id\": \"72f7a74687734402a517a88f3d181097\"...                   LOCAL   \n",
      "\n",
      "                             tags.mlflow.source.name  \n",
      "0  C:\\Users\\srita\\anaconda3\\Lib\\site-packages\\ipy...  \n",
      "1  C:\\Users\\srita\\anaconda3\\Lib\\site-packages\\ipy...  \n",
      "2  C:\\Users\\srita\\anaconda3\\Lib\\site-packages\\ipy...  \n"
     ]
    }
   ],
   "source": [
    "import mlflow\n",
    "\n",
    "all_runs = mlflow.search_runs(search_all_experiments=True)\n",
    "print(all_runs)"
   ]
  },
  {
   "cell_type": "code",
   "execution_count": null,
   "id": "ed1b1b05-1422-4a5a-a72f-404d4a24813e",
   "metadata": {},
   "outputs": [],
   "source": [
    "!mlflow models serve -p 8002 -m runs:/d4e17be752014c5f9776e8a2a5398b7c/random-forest-model  --no-conda"
   ]
  },
  {
   "cell_type": "code",
   "execution_count": null,
   "id": "78de4768-1282-42d1-8770-45e529e49743",
   "metadata": {},
   "outputs": [],
   "source": []
  }
 ],
 "metadata": {
  "kernelspec": {
   "display_name": "Python 3 (ipykernel)",
   "language": "python",
   "name": "python3"
  },
  "language_info": {
   "codemirror_mode": {
    "name": "ipython",
    "version": 3
   },
   "file_extension": ".py",
   "mimetype": "text/x-python",
   "name": "python",
   "nbconvert_exporter": "python",
   "pygments_lexer": "ipython3",
   "version": "3.11.5"
  }
 },
 "nbformat": 4,
 "nbformat_minor": 5
}
